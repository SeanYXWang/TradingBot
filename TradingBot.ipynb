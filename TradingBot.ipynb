{
  "nbformat": 4,
  "nbformat_minor": 0,
  "metadata": {
    "colab": {
      "name": "TradingBot.ipynb",
      "provenance": [],
      "collapsed_sections": [],
      "authorship_tag": "ABX9TyMtGTSh21q46GNXc2V4NLng",
      "include_colab_link": true
    },
    "kernelspec": {
      "name": "python3",
      "display_name": "Python 3"
    },
    "language_info": {
      "name": "python"
    }
  },
  "cells": [
    {
      "cell_type": "markdown",
      "metadata": {
        "id": "view-in-github",
        "colab_type": "text"
      },
      "source": [
        "<a href=\"https://colab.research.google.com/github/SeanYXWang/TradingBot/blob/main/TradingBot.ipynb\" target=\"_parent\"><img src=\"https://colab.research.google.com/assets/colab-badge.svg\" alt=\"Open In Colab\"/></a>"
      ]
    },
    {
      "cell_type": "code",
      "execution_count": null,
      "metadata": {
        "id": "OWym-j0j90Uc"
      },
      "outputs": [],
      "source": [
        "# check python version\n",
        "!python --version\n",
        "# install TD Ameritrade API\n",
        "!pip install tda-api\n",
        "# \n",
        "!pip install webdriver-manager\n",
        "# \n",
        "!pip install ta\n",
        "# \n",
        "!pip install config"
      ]
    },
    {
      "cell_type": "code",
      "source": [
        "print(f'Hello world ')"
      ],
      "metadata": {
        "colab": {
          "base_uri": "https://localhost:8080/"
        },
        "id": "yFtCxIU1Ar5R",
        "outputId": "91bfb153-2d25-40a3-e100-bff652e0bbc9"
      },
      "execution_count": 2,
      "outputs": [
        {
          "output_type": "stream",
          "name": "stdout",
          "text": [
            "Hello world \n"
          ]
        }
      ]
    },
    {
      "cell_type": "code",
      "source": [
        "#Blank TD Ameritrade Bot\n",
        "#TD Ameritrade\n",
        "import tda\n",
        "from tda.auth import easy_client\n",
        "from tda.client import Client\n",
        "from tda.streaming import StreamClient\n",
        "from tda.orders.equities import equity_buy_market\n",
        "from tda.orders.equities import equity_sell_market\n",
        "import atexit\n",
        "import pytz\n",
        "import datetime\n",
        "from datetime import timedelta\n",
        "import asyncio\n",
        "from contextlib import suppress\n",
        "import json\n",
        "from selenium import webdriver\n",
        "from webdriver_manager.chrome import ChromeDriverManager\n",
        "import ta\n",
        "import numpy as np\n",
        "import pandas as pd\n",
        "import math\n",
        "import logging\n",
        "import locale\n",
        "import threading\n",
        "import time\n",
        "import sys\n",
        "import os\n",
        "import httpx\n",
        "from config import api_key, redirect_uri, token_path\n",
        "#Bar Object\n",
        "class Bar:\n",
        "    open = 0\n",
        "    low = 0\n",
        "    high = 0\n",
        "    close = 0\n",
        "    volume = 0\n",
        "    date = datetime.datetime.now()\n",
        "    def __init__(self):\n",
        "        self.open = 0\n",
        "        self.low = 0\n",
        "        self.high = 0\n",
        "        self.close = 0\n",
        "        self.volume = 0\n",
        "        self.date = datetime.datetime.now()\n",
        "#Bot Class\n",
        "class Bot():\n",
        "    barsize = 45\n",
        "    currentBar = Bar()\n",
        "    bars = []\n",
        "    client = ''\n",
        "    account_id = 0\n",
        "    accountSize = 10000\n",
        "    firstTime = True\n",
        "    inPosition = False\n",
        "    #Indicators\n",
        "    rsi = []\n",
        "    #Params\n",
        "    rsiPeriod = 14\n",
        "    stream_client = ''\n",
        "    status = None\n",
        "    initialbartime = datetime.datetime.now().astimezone(pytz.timezone(\"America/New_York\"))\n",
        "    #Connect to TD Ameritrade\n",
        "    def __init__(self):\n",
        "        try:\n",
        "            #Global vars\n",
        "            API_KEY = api_key\n",
        "            REDIRECT_URI = redirect_uri\n",
        "            TOKEN_PATH = token_path\n",
        "            # Create a new client\n",
        "            self.client = tda.auth.easy_client(API_KEY,\n",
        "                REDIRECT_URI,\n",
        "                TOKEN_PATH,\n",
        "                self.make_webdriver)\n",
        "            # To place trades we must specify the account ID\n",
        "            r = self.client.get_accounts()\n",
        "            assert r.status_code == 200, r.raise_for_status()\n",
        "            data = r.json()\n",
        "            self.account_id = data[0]['securitiesAccount']['accountId']\n",
        "            self.accountSize = data[0]['securitiesAccount']['currentBalances']['cashBalance']\n",
        "            self.stream_client = StreamClient(self.client, account_id=self.account_id)\n",
        "            print(\"Successfully logged in to your TD Ameritrade Account.\")\n",
        "            #Get symbol info\n",
        "            self.symbol = input(\"Enter the symbol you want to trade : \")\n",
        "            #Get bar size\n",
        "            #self.barsize = int(input(\"Enter the barsize you want to trade in minutes : \"))\n",
        "            self.barsize = 45\n",
        "            self.stream_client = StreamClient(self.client, account_id=self.account_id)\n",
        "            asyncio.run(self.read_stream())\n",
        "        except Exception as e:\n",
        "            print(e)\n",
        "    #Stream realtime updates\n",
        "    async def read_stream(self):\n",
        "        try:\n",
        "            await self.stream_client.login()\n",
        "            await self.stream_client.quality_of_service(StreamClient.QOSLevel.EXPRESS)\n",
        "            await self.stream_client.chart_equity_subs([self.symbol])\n",
        "            self.stream_client.add_chart_equity_handler(self.onBarUpdate)\n",
        "            print(\"Streaming real-time data now.\")\n",
        "            while True:\n",
        "                try:\n",
        "                    await self.stream_client.handle_message()\n",
        "                except Exception as e:\n",
        "                    print(e)\n",
        "        except Exception as e:\n",
        "            print(e)\n",
        "    #OnBarUpdate\n",
        "    def onBarUpdate(self,msg):\n",
        "        try:\n",
        "            msg = json.dumps(msg, indent=4)\n",
        "            msg = json.loads(msg)\n",
        "            #Retrieve Bar \n",
        "            for bar in msg['content']:\n",
        "                # Check The Strategy\n",
        "                bartime = datetime.datetime.fromtimestamp(msg['timestamp'] / 1000).astimezone(pytz.timezone(\"America/New_York\"))\n",
        "                # How many minutes have passed \n",
        "                minutes_diff = (bartime-self.initialbartime).total_seconds() / 60.0\n",
        "                self.currentBar.date = bartime\n",
        "                #On Bar Close\n",
        "                if (minutes_diff > 0 and math.floor(minutes_diff) % self.barsize == 0):\n",
        "                    self.initialbartime = bartime \n",
        "                    #Calculate RSI\n",
        "                    closes = []\n",
        "                    for histbar in self.bars:\n",
        "                        closes.append(histbar.close)\n",
        "                    self.close_array = pd.Series(np.asarray(closes))\n",
        "                    if (len(self.bars) > 0):\n",
        "                        #Calc RSI on bar close\n",
        "                        self.rsi = ta.momentum.rsi(self.close_array,self.rsiPeriod, True)\n",
        "                        #Print last rsi\n",
        "                        print('RSI: ' + str(self.rsi[len(self.rsi)-1]))\n",
        "                        #If the RSI <= 24 and we are not in a position, buy! (after optimization)\n",
        "                        print(self.inPosition)\n",
        "                        if self.rsi[len(self.rsi)-1] <= 24 and not self.inPosition:\n",
        "                            #Submit a buy order\n",
        "                            order = tda.orders.equities.equity_buy_market(self.symbol,1)\n",
        "                            r = self.client.place_order(self.account_id, order)\n",
        "                            assert r.status_code == httpx.codes.OK, r.raise_for_status()\n",
        "                            order_id = Utils(client, account_id).extract_order_id(r)\n",
        "                            # make sure that order went through \n",
        "                            assert order_id is not None, \"oh no buy order did not go through\"  \n",
        "                            print(\"bought a share\")\n",
        "                            self.inPosition = True\n",
        "                        #If the RSI >= 62 and we are in a position, sell! (after optimization)\n",
        "                        if self.rsi[len(self.rsi)-1] >= 62 and self.inPosition:\n",
        "                            #Submit a sell order\n",
        "                            order = tda.orders.equities.equity_sell_market(self.symbol,1)\n",
        "                            r = self.client.place_order(self.account_id, order)\n",
        "                            assert r.status_code == httpx.codes.OK, r.raise_for_status()\n",
        "                            order_id = Utils(client, account_id).extract_order_id(r)\n",
        "                            # make sure that order went through \n",
        "                            assert order_id is not None, \"oh no sell order did not go through\"   \n",
        "                            print(\"sold a share\")\n",
        "                            self.inPosition = False\n",
        "                    #Bar closed append\n",
        "                    self.currentBar.close = bar['CLOSE_PRICE']\n",
        "                    print(\"New bar!\")\n",
        "                    self.bars.append(self.currentBar)\n",
        "                    self.currentBar = Bar()\n",
        "                    self.currentBar.open = bar['OPEN_PRICE']\n",
        "                #Build  realtime bar\n",
        "                if (self.currentBar.open == 0):\n",
        "                    self.currentBar.open = bar['OPEN_PRICE']\n",
        "                if (self.currentBar.high == 0 or bar['HIGH_PRICE'] > self.currentBar.high):\n",
        "                    self.currentBar.high = bar['HIGH_PRICE']\n",
        "                if (self.currentBar.low == 0 or bar['LOW_PRICE'] < self.currentBar.low):\n",
        "                    self.currentBar.low = bar['LOW_PRICE']\n",
        "        except Exception as e:\n",
        "            print(e)        \n",
        "    #Connect to TD Ameritrade OAUTH Login\n",
        "    def make_webdriver(self):\n",
        "        # Import selenium here because it's slow to import\n",
        "        from selenium import webdriver\n",
        "        driver = webdriver.Chrome(ChromeDriverManager().install())\n",
        "        atexit.register(lambda: driver.quit())\n",
        "        return driver\n",
        "#Start Bot\n",
        "bot = Bot()"
      ],
      "metadata": {
        "colab": {
          "base_uri": "https://localhost:8080/",
          "height": 368
        },
        "id": "5nDNaN6dA999",
        "outputId": "f2ef881c-5f46-4d88-aa1e-1593e569ecc7"
      },
      "execution_count": 6,
      "outputs": [
        {
          "output_type": "error",
          "ename": "ImportError",
          "evalue": "ignored",
          "traceback": [
            "\u001b[0;31m---------------------------------------------------------------------------\u001b[0m",
            "\u001b[0;31mImportError\u001b[0m                               Traceback (most recent call last)",
            "\u001b[0;32m<ipython-input-6-b274c3d777a4>\u001b[0m in \u001b[0;36m<module>\u001b[0;34m()\u001b[0m\n\u001b[1;32m     27\u001b[0m \u001b[0;32mimport\u001b[0m \u001b[0mos\u001b[0m\u001b[0;34m\u001b[0m\u001b[0;34m\u001b[0m\u001b[0m\n\u001b[1;32m     28\u001b[0m \u001b[0;32mimport\u001b[0m \u001b[0mhttpx\u001b[0m\u001b[0;34m\u001b[0m\u001b[0;34m\u001b[0m\u001b[0m\n\u001b[0;32m---> 29\u001b[0;31m \u001b[0;32mfrom\u001b[0m \u001b[0mconfig\u001b[0m \u001b[0;32mimport\u001b[0m \u001b[0mapi_key\u001b[0m\u001b[0;34m,\u001b[0m \u001b[0mredirect_uri\u001b[0m\u001b[0;34m,\u001b[0m \u001b[0mtoken_path\u001b[0m\u001b[0;34m\u001b[0m\u001b[0;34m\u001b[0m\u001b[0m\n\u001b[0m\u001b[1;32m     30\u001b[0m \u001b[0;31m#Bar Object\u001b[0m\u001b[0;34m\u001b[0m\u001b[0;34m\u001b[0m\u001b[0;34m\u001b[0m\u001b[0m\n\u001b[1;32m     31\u001b[0m \u001b[0;32mclass\u001b[0m \u001b[0mBar\u001b[0m\u001b[0;34m:\u001b[0m\u001b[0;34m\u001b[0m\u001b[0;34m\u001b[0m\u001b[0m\n",
            "\u001b[0;31mImportError\u001b[0m: cannot import name 'api_key' from 'config' (/usr/local/lib/python3.7/dist-packages/config/__init__.py)",
            "",
            "\u001b[0;31m---------------------------------------------------------------------------\u001b[0;32m\nNOTE: If your import is failing due to a missing package, you can\nmanually install dependencies using either !pip or !apt.\n\nTo view examples of installing some common dependencies, click the\n\"Open Examples\" button below.\n\u001b[0;31m---------------------------------------------------------------------------\u001b[0m\n"
          ],
          "errorDetails": {
            "actions": [
              {
                "action": "open_url",
                "actionText": "Open Examples",
                "url": "/notebooks/snippets/importing_libraries.ipynb"
              }
            ]
          }
        }
      ]
    },
    {
      "cell_type": "code",
      "source": [
        ""
      ],
      "metadata": {
        "id": "sD3uZJ1sDKfL"
      },
      "execution_count": null,
      "outputs": []
    }
  ]
}